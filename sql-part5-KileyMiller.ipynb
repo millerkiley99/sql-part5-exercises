{
    "metadata": {
        "kernelspec": {
            "name": "SQL",
            "display_name": "SQL",
            "language": "sql"
        },
        "language_info": {
            "name": "sql",
            "version": ""
        }
    },
    "nbformat_minor": 2,
    "nbformat": 4,
    "cells": [
        {
            "cell_type": "markdown",
            "source": [
                "# Exercises: Creating, Updating, and Destroying Objects\n",
                "\n",
                "For the exercises, you will be working with objects and data you create. Before opening this notebook, make sure that you have set up the new connection to the server and that you have located the database and your schema.\n",
                "\n",
                "## Object Creation\n",
                "\n",
                "Before coding, think of three things you want to make. These could be coding projects, new recipes, or planned projects for a woodworking hobby. Brainstorm the appropriate column names and data types as well.\n",
                "\n",
                "Create a table under your schema called `planned_makes`."
            ],
            "metadata": {
                "azdata_cell_guid": "9d51c166-0c19-4f27-a422-2a6cf596bfb2"
            },
            "attachments": {}
        },
        {
            "cell_type": "code",
            "source": [
                "CREATE TABLE JunkDB_STL_Sept2022.kileym.planned_makes (\n",
                "    task VARCHAR(50) NOT NULL,\n",
                "    priority VARCHAR(3) NOT NULL,\n",
                "    end_date DATETIME\n",
                ")"
            ],
            "metadata": {
                "azdata_cell_guid": "d9238911-6f81-4f01-980d-b584307effaf",
                "language": "sql"
            },
            "outputs": [
                {
                    "output_type": "error",
                    "evalue": "Msg 2714, Level 16, State 6, Line 1\nThere is already an object named 'planned_makes' in the database.",
                    "ename": "",
                    "traceback": []
                },
                {
                    "output_type": "display_data",
                    "data": {
                        "text/html": "Total execution time: 00:00:00.047"
                    },
                    "metadata": {}
                }
            ],
            "execution_count": 15
        },
        {
            "cell_type": "markdown",
            "source": [
                "Add three rows to your table that are your planned makes."
            ],
            "metadata": {
                "azdata_cell_guid": "83cdf34d-8c4f-4fa1-a14e-77384b19d734"
            }
        },
        {
            "cell_type": "code",
            "source": [
                "INSERT INTO JunkDB_STL_Sept2022.kileym.planned_makes\n",
                "VALUES \n",
                "    ('sql-part5_assignment', '1', '2023-01-04 17:30:00'),\n",
                "    ('resume_prep', '2', '2023-01-04 17:30:00'),\n",
                "    ('project:9to5', '3', '2023-01-18 17:30:00');"
            ],
            "metadata": {
                "azdata_cell_guid": "e7cff9cb-87ba-4c7b-98f2-eaf445e8719c",
                "language": "sql"
            },
            "outputs": [
                {
                    "output_type": "display_data",
                    "data": {
                        "text/html": "(3 rows affected)"
                    },
                    "metadata": {}
                },
                {
                    "output_type": "display_data",
                    "data": {
                        "text/html": "Total execution time: 00:00:00.050"
                    },
                    "metadata": {}
                }
            ],
            "execution_count": 12
        },
        {
            "cell_type": "code",
            "source": [
                "SELECT TOP 3 *\n",
                "FROM JunkDB_STL_Sept2022.kileym.planned_makes"
            ],
            "metadata": {
                "azdata_cell_guid": "f389e1c0-5f95-4eba-bdb7-8fcb297b687c",
                "language": "sql"
            },
            "outputs": [
                {
                    "output_type": "display_data",
                    "data": {
                        "text/html": "(3 rows affected)"
                    },
                    "metadata": {}
                },
                {
                    "output_type": "display_data",
                    "data": {
                        "text/html": "Total execution time: 00:00:00.067"
                    },
                    "metadata": {}
                },
                {
                    "output_type": "execute_result",
                    "metadata": {},
                    "execution_count": 13,
                    "data": {
                        "application/vnd.dataresource+json": {
                            "schema": {
                                "fields": [
                                    {
                                        "name": "task"
                                    },
                                    {
                                        "name": "priority"
                                    },
                                    {
                                        "name": "end_date"
                                    }
                                ]
                            },
                            "data": [
                                {
                                    "0": "sql-part5_assignment",
                                    "1": "1",
                                    "2": "2023-01-04 17:30:00.000"
                                },
                                {
                                    "0": "resume_prep",
                                    "1": "2",
                                    "2": "2023-01-04 17:30:00.000"
                                },
                                {
                                    "0": "project:9to5",
                                    "1": "3",
                                    "2": "2023-01-18 17:30:00.000"
                                }
                            ]
                        },
                        "text/html": [
                            "<table>",
                            "<tr><th>task</th><th>priority</th><th>end_date</th></tr>",
                            "<tr><td>sql-part5_assignment</td><td>1</td><td>2023-01-04 17:30:00.000</td></tr>",
                            "<tr><td>resume_prep</td><td>2</td><td>2023-01-04 17:30:00.000</td></tr>",
                            "<tr><td>project:9to5</td><td>3</td><td>2023-01-18 17:30:00.000</td></tr>",
                            "</table>"
                        ]
                    }
                }
            ],
            "execution_count": 13
        },
        {
            "cell_type": "markdown",
            "source": [
                "## Update a Row\n",
                "\n",
                "Change different values in one of your three rows."
            ],
            "metadata": {
                "azdata_cell_guid": "4a39b8d4-ae97-4e09-8336-c5fc6a00d76c"
            },
            "attachments": {}
        },
        {
            "cell_type": "code",
            "source": [
                "UPDATE JunkDB_STL_Sept2022.kileym.planned_makes\n",
                "SET priority = '1'\n",
                "WHERE task = 'project:9to5';"
            ],
            "metadata": {
                "azdata_cell_guid": "7409c695-9581-4ad8-b03a-574d2c4c87cb",
                "language": "sql",
                "tags": []
            },
            "outputs": [
                {
                    "output_type": "display_data",
                    "data": {
                        "text/html": "(1 row affected)"
                    },
                    "metadata": {}
                },
                {
                    "output_type": "display_data",
                    "data": {
                        "text/html": "Total execution time: 00:00:00.054"
                    },
                    "metadata": {}
                }
            ],
            "execution_count": 29
        },
        {
            "cell_type": "code",
            "source": [
                "SELECT TOP 3 *\n",
                "FROM JunkDB_STL_Sept2022.kileym.planned_makes"
            ],
            "metadata": {
                "azdata_cell_guid": "bb1901db-2bcb-40db-9145-d9dbbdcc40b5",
                "language": "sql"
            },
            "outputs": [
                {
                    "output_type": "display_data",
                    "data": {
                        "text/html": "(3 rows affected)"
                    },
                    "metadata": {}
                },
                {
                    "output_type": "display_data",
                    "data": {
                        "text/html": "Total execution time: 00:00:00.048"
                    },
                    "metadata": {}
                },
                {
                    "output_type": "execute_result",
                    "metadata": {},
                    "execution_count": 30,
                    "data": {
                        "application/vnd.dataresource+json": {
                            "schema": {
                                "fields": [
                                    {
                                        "name": "task"
                                    },
                                    {
                                        "name": "priority"
                                    },
                                    {
                                        "name": "end_date"
                                    }
                                ]
                            },
                            "data": [
                                {
                                    "0": "sql-part5_assignment",
                                    "1": "1",
                                    "2": "2023-01-04 17:30:00.000"
                                },
                                {
                                    "0": "resume_prep",
                                    "1": "2",
                                    "2": "2023-01-04 17:30:00.000"
                                },
                                {
                                    "0": "project:9to5",
                                    "1": "1",
                                    "2": "2023-01-18 17:30:00.000"
                                }
                            ]
                        },
                        "text/html": [
                            "<table>",
                            "<tr><th>task</th><th>priority</th><th>end_date</th></tr>",
                            "<tr><td>sql-part5_assignment</td><td>1</td><td>2023-01-04 17:30:00.000</td></tr>",
                            "<tr><td>resume_prep</td><td>2</td><td>2023-01-04 17:30:00.000</td></tr>",
                            "<tr><td>project:9to5</td><td>1</td><td>2023-01-18 17:30:00.000</td></tr>",
                            "</table>"
                        ]
                    }
                }
            ],
            "execution_count": 30
        },
        {
            "cell_type": "markdown",
            "source": [
                "## Delete a Row\n",
                "\n",
                "Delete one of the rows from your table."
            ],
            "metadata": {
                "azdata_cell_guid": "95e91a6e-9038-42d9-9401-5738842aba17"
            }
        },
        {
            "cell_type": "code",
            "source": [
                "DELETE FROM JunkDB_STL_Sept2022.kileym.planned_makes\n",
                "WHERE task = 'project:9to5';"
            ],
            "metadata": {
                "azdata_cell_guid": "749c748f-19b5-4c69-9004-b6b20216616a",
                "language": "sql"
            },
            "outputs": [
                {
                    "output_type": "display_data",
                    "data": {
                        "text/html": "(1 row affected)"
                    },
                    "metadata": {}
                },
                {
                    "output_type": "display_data",
                    "data": {
                        "text/html": "Total execution time: 00:00:00.052"
                    },
                    "metadata": {}
                }
            ],
            "execution_count": 31
        },
        {
            "cell_type": "code",
            "source": [
                "SELECT TOP 3 *\n",
                "FROM JunkDB_STL_Sept2022.kileym.planned_makes"
            ],
            "metadata": {
                "azdata_cell_guid": "60c487e5-6376-4578-a2b5-40617ee8310e",
                "language": "sql"
            },
            "outputs": [
                {
                    "output_type": "display_data",
                    "data": {
                        "text/html": "(2 rows affected)"
                    },
                    "metadata": {}
                },
                {
                    "output_type": "display_data",
                    "data": {
                        "text/html": "Total execution time: 00:00:00.069"
                    },
                    "metadata": {}
                },
                {
                    "output_type": "execute_result",
                    "metadata": {},
                    "execution_count": 32,
                    "data": {
                        "application/vnd.dataresource+json": {
                            "schema": {
                                "fields": [
                                    {
                                        "name": "task"
                                    },
                                    {
                                        "name": "priority"
                                    },
                                    {
                                        "name": "end_date"
                                    }
                                ]
                            },
                            "data": [
                                {
                                    "0": "sql-part5_assignment",
                                    "1": "1",
                                    "2": "2023-01-04 17:30:00.000"
                                },
                                {
                                    "0": "resume_prep",
                                    "1": "2",
                                    "2": "2023-01-04 17:30:00.000"
                                }
                            ]
                        },
                        "text/html": [
                            "<table>",
                            "<tr><th>task</th><th>priority</th><th>end_date</th></tr>",
                            "<tr><td>sql-part5_assignment</td><td>1</td><td>2023-01-04 17:30:00.000</td></tr>",
                            "<tr><td>resume_prep</td><td>2</td><td>2023-01-04 17:30:00.000</td></tr>",
                            "</table>"
                        ]
                    }
                }
            ],
            "execution_count": 32
        },
        {
            "cell_type": "markdown",
            "source": [
                "## Drop the Table\n",
                "\n",
                "While this has been fun, it is time to drop the table!"
            ],
            "metadata": {
                "azdata_cell_guid": "2239cb09-137b-4579-905b-1aa020793181"
            },
            "attachments": {}
        },
        {
            "cell_type": "code",
            "source": [
                "DROP TABLE JunkDB_STL_Sept2022.kileym.planned_makes;"
            ],
            "metadata": {
                "azdata_cell_guid": "b3c7f6ea-ee26-46b3-9c2a-2f7a82c39699",
                "language": "sql"
            },
            "outputs": [
                {
                    "output_type": "display_data",
                    "data": {
                        "text/html": "Commands completed successfully."
                    },
                    "metadata": {}
                },
                {
                    "output_type": "display_data",
                    "data": {
                        "text/html": "Total execution time: 00:00:00.050"
                    },
                    "metadata": {}
                }
            ],
            "execution_count": 35
        },
        {
            "cell_type": "code",
            "source": [
                "SELECT TOP 3 *\n",
                "FROM JunkDB_STL_Sept2022.kileym.planned_makes"
            ],
            "metadata": {
                "azdata_cell_guid": "532e12ce-c358-464d-a539-da79d7302ebb",
                "language": "sql"
            },
            "outputs": [
                {
                    "output_type": "error",
                    "evalue": "Msg 208, Level 16, State 1, Line 1\nInvalid object name 'JunkDB_STL_Sept2022.kileym.planned_makes'.",
                    "ename": "",
                    "traceback": []
                },
                {
                    "output_type": "display_data",
                    "data": {
                        "text/html": "Total execution time: 00:00:00.047"
                    },
                    "metadata": {}
                }
            ],
            "execution_count": 36
        }
    ]
}